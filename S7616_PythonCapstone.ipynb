{
 "cells": [
  {
   "cell_type": "code",
   "execution_count": 13,
   "metadata": {},
   "outputs": [
    {
     "name": "stdout",
     "output_type": "stream",
     "text": [
      "OTP has been sent to manishkumarsingh7991@gmail.com\n",
      "OTP verified successfully!\n"
     ]
    }
   ],
   "source": [
    "import random\n",
    "import smtplib\n",
    "\n",
    "def create_otp(): # # Generate a 6-digit OTP by randomly picking digits 0-9\n",
    "    return str(random.randint(100000, 999999))\n",
    "\n",
    "def send_otp(email, otp): # Function to send OTP to a specific email\n",
    "    sender_email = \"mkskumar298@gmail.com\"\n",
    "    sender_password = \"zmyv sajz zxez ugob\"\n",
    "\n",
    "    # Email subject and body\n",
    "    subject = \"Your OTP Code\"\n",
    "    body = f\"Your OTP code is: {otp}\"\n",
    "    message = f\"Subject: {subject}\\n\\n{body}\"\n",
    "\n",
    "    try:        \n",
    "        with smtplib.SMTP(\"smtp.gmail.com\", 587) as server: # Establish a connection to the SMTP server\n",
    "            server.starttls()  # Upgrade the connection to a secure encrypted SSL/TLS connection\n",
    "            server.login(\"mkskumar298@gmail.com\", \"zmyv sajz zxez ugob\")  # Log in to the server\n",
    "            server.sendmail(\"mkskumar298@gmail.com\", email, message)  # Send the email\n",
    "        print(f\"OTP has been sent to {email}\")\n",
    "    except Exception as e: # Handle any errors that occur during the sending process        \n",
    "        print(f\"Failed to send OTP: {e}\")\n",
    "\n",
    "\n",
    "def verify_otp(correct_otp):# Function to verify the OTP with 3 attempts    \n",
    "    for attempt in range(3):# Allow the user up to 3 attempts to enter the correct OTP\n",
    "        user_otp = input(\"Enter the OTP: \")\n",
    "        if user_otp == correct_otp:\n",
    "            return True  # OTP is correct\n",
    "        else:\n",
    "            print(f\"Incorrect OTP. You have {2 - attempt} attempts left.\")\n",
    "    return False  # OTP verification failed after 3 attempts\n",
    "\n",
    "\n",
    "if __name__ == \"__main__\": \n",
    "    email = input(\"Enter your email: \")  # Prompt user to enter their email address\n",
    "    otp = create_otp()  # Generate OTP\n",
    "    send_otp(email, otp)  # Send OTP to the specified email address\n",
    "    if verify_otp(otp):  # Verify the OTP entered by the user\n",
    "        print(\"OTP verified successfully!\")\n",
    "    else:\n",
    "        print(\"OTP verification failed. You have exhausted your attempts.\")"
   ]
  }
 ],
 "metadata": {
  "kernelspec": {
   "display_name": "base",
   "language": "python",
   "name": "python3"
  },
  "language_info": {
   "codemirror_mode": {
    "name": "ipython",
    "version": 3
   },
   "file_extension": ".py",
   "mimetype": "text/x-python",
   "name": "python",
   "nbconvert_exporter": "python",
   "pygments_lexer": "ipython3",
   "version": "3.12.7"
  }
 },
 "nbformat": 4,
 "nbformat_minor": 2
}
